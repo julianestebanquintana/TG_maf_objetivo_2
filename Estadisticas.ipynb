{
 "cells": [
  {
   "cell_type": "markdown",
   "id": "0a289e1d-440b-478f-b7cf-a143016cb9ac",
   "metadata": {},
   "source": [
    "# Evaluación estadística para el Trabajo de grado"
   ]
  },
  {
   "cell_type": "markdown",
   "id": "065d16fa-4951-4f72-8b3a-e22a06e624ed",
   "metadata": {},
   "source": [
    "Trabajo de grado, Maestría en Administración Financiera.  \n",
    "En el desarrollo del segundo objetivo del trabajo de grado (adaptar el modelo financiero escogido a la situación colombiana), surge la necesidad de evaluar el comportamiento de los precios de la energía, en el mercado regulado y en el no regulado.  \n",
    "A continuación, se hace un análisis exploratorio de los datos de precios de la energía en Colombia de los últimos 20 años, para intentar modelar el comportamiento futuro.  "
   ]
  },
  {
   "cell_type": "markdown",
   "id": "7a5c8d44-6ec8-44fd-a3bf-c63beecc5b33",
   "metadata": {},
   "source": [
    "## Objetivos\n",
    "1. Evaluar si hay razones para trabajar con precios de bolsa o si es preferible quedarse sólo con los PPA.\n",
    "1. Justificar qué tarifas (en particular, qué crecimiento de las tarifas) se van a tomar en los escenarios. \n",
    "1. Intentar predecir el comportamiento futuro de los precios de la energía. "
   ]
  },
  {
   "cell_type": "code",
   "execution_count": null,
   "id": "9d9d1ecc-2070-4bd2-b95a-d1666fa7c032",
   "metadata": {},
   "outputs": [],
   "source": []
  }
 ],
 "metadata": {
  "kernelspec": {
   "display_name": "Python 3 (ipykernel)",
   "language": "python",
   "name": "python3"
  },
  "language_info": {
   "codemirror_mode": {
    "name": "ipython",
    "version": 3
   },
   "file_extension": ".py",
   "mimetype": "text/x-python",
   "name": "python",
   "nbconvert_exporter": "python",
   "pygments_lexer": "ipython3",
   "version": "3.9.18"
  }
 },
 "nbformat": 4,
 "nbformat_minor": 5
}
